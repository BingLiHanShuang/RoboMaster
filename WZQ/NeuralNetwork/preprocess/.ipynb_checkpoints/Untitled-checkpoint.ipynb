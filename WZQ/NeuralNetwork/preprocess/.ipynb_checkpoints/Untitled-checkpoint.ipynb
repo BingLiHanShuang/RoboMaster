{
 "cells": [
  {
   "cell_type": "code",
   "execution_count": 4,
   "metadata": {
    "collapsed": true,
    "deletable": true,
    "editable": true
   },
   "outputs": [],
   "source": [
    "import cv2\n",
    "import imutils\n",
    "import numpy as np\n",
    "import tarfile\n",
    "import shutil\n",
    "import os\n",
    "from tqdm import tqdm\n",
    "def mkdir(path):\n",
    "    if not os.path.exists(path):\n",
    "        os.makedirs(path)\n",
    "def rmdir(path):\n",
    "    if os.path.exists(path):\n",
    "        shutil.rmtree(path)"
   ]
  },
  {
   "cell_type": "markdown",
   "metadata": {
    "deletable": true,
    "editable": true
   },
   "source": [
    "# 分类数据集\n",
    "数据集有数字和大小写字母，但是我们只需要0123456789和非数字。\n",
    "因此将 A~Z,a~z 的图片移到 A 的文件夹，再将其他空文件夹删除。"
   ]
  },
  {
   "cell_type": "code",
   "execution_count": 5,
   "metadata": {
    "collapsed": false,
    "deletable": true,
    "editable": true
   },
   "outputs": [
    {
     "name": "stderr",
     "output_type": "stream",
     "text": [
      "100%|██████████| 51/51 [00:04<00:00, 10.92it/s]\n"
     ]
    }
   ],
   "source": [
    "notnumdir = '/Users/wzq/Downloads/English/Fnt/Sample011/'\n",
    "for i in tqdm(range(12, 63)):\n",
    "    path = '/Users/wzq/Downloads/English/Fnt/Sample%03d/' % i\n",
    "    for filename in os.listdir(path):\n",
    "        os.rename(path+filename, notnumdir+filename)\n",
    "    os.rmdir(path)"
   ]
  },
  {
   "cell_type": "markdown",
   "metadata": {
    "deletable": true,
    "editable": true
   },
   "source": [
    "# 预处理所有图片\n"
   ]
  },
  {
   "cell_type": "code",
   "execution_count": 6,
   "metadata": {
    "collapsed": false,
    "deletable": true,
    "editable": true
   },
   "outputs": [
    {
     "name": "stderr",
     "output_type": "stream",
     "text": [
      "/Users/wzq/Downloads/Digit/train/0/: 100%|██████████| 1016/1016 [00:34<00:00, 33.65it/s]\n",
      "/Users/wzq/Downloads/Digit/train/1/: 100%|██████████| 1016/1016 [00:34<00:00, 29.10it/s]\n",
      "/Users/wzq/Downloads/Digit/train/2/: 100%|██████████| 1016/1016 [00:34<00:00, 33.84it/s]\n",
      "/Users/wzq/Downloads/Digit/train/3/: 100%|██████████| 1016/1016 [00:32<00:00, 31.52it/s]\n",
      "/Users/wzq/Downloads/Digit/train/4/: 100%|██████████| 1016/1016 [00:36<00:00, 30.95it/s]\n",
      "/Users/wzq/Downloads/Digit/train/5/: 100%|██████████| 1016/1016 [00:31<00:00, 32.16it/s]\n",
      "/Users/wzq/Downloads/Digit/train/6/: 100%|██████████| 1016/1016 [00:28<00:00, 35.17it/s]\n",
      "/Users/wzq/Downloads/Digit/train/7/: 100%|██████████| 1016/1016 [00:29<00:00, 35.93it/s]\n",
      "/Users/wzq/Downloads/Digit/train/8/: 100%|██████████| 1016/1016 [00:28<00:00, 35.99it/s]\n",
      "/Users/wzq/Downloads/Digit/train/9/: 100%|██████████| 1016/1016 [00:23<00:00, 44.05it/s]\n",
      "/Users/wzq/Downloads/Digit/train/10/: 100%|██████████| 52832/52832 [28:18<00:00, 31.11it/s]  \n"
     ]
    }
   ],
   "source": [
    "def resize(rawimg):  # resize img to 28*28\n",
    "    fx = 28.0 / rawimg.shape[0]\n",
    "    fy = 28.0 / rawimg.shape[1]\n",
    "    fx = fy = min(fx, fy)\n",
    "    img = cv2.resize(rawimg, None, fx=fx, fy=fy, interpolation=cv2.INTER_CUBIC)\n",
    "    outimg = np.ones((28, 28), dtype=np.uint8) * 255\n",
    "    w = img.shape[1]\n",
    "    h = img.shape[0]\n",
    "    x = (28 - w) / 2\n",
    "    y = (28 - h) / 2\n",
    "    outimg[y:y+h, x:x+w] = img\n",
    "    return outimg\n",
    "\n",
    "def convert(img):\n",
    "    # img = cv2.imread(imgpath)\n",
    "    # gray = cv2.imread(imgpath, cv2.IMREAD_GRAYSCALE)\n",
    "    gray = cv2.cvtColor(img, cv2.COLOR_BGR2GRAY)\n",
    "    bw = cv2.adaptiveThreshold(gray, 255, cv2.ADAPTIVE_THRESH_GAUSSIAN_C, cv2.THRESH_BINARY_INV, 25, 25)\n",
    "    ctrs, hier = cv2.findContours(bw.copy(), cv2.RETR_EXTERNAL, cv2.CHAIN_APPROX_SIMPLE)\n",
    "    rects = [cv2.boundingRect(ctr) for ctr in ctrs]\n",
    "    x, y, w, h = rects[-1]\n",
    "    roi = gray[y:y + h, x:x + w]\n",
    "    return resize(roi)\n",
    "\n",
    "\n",
    "def rotate(image, angle):\n",
    "    rotated = imutils.rotate(image, angle)\n",
    "    return convert(rotated)\n",
    "\n",
    "for i in range(11):\n",
    "    path = '/Users/wzq/Downloads/English/Fnt/Sample%03d/' % (i+1)\n",
    "    trainpath = '/Users/wzq/Downloads/Digit/train/%d/' % i\n",
    "    mkdir(trainpath)\n",
    "    j=0\n",
    "    for filename in tqdm(os.listdir(path), desc=trainpath):\n",
    "        try:\n",
    "            img=cv2.imread(path + filename)\n",
    "            \n",
    "            \n",
    "            #for angle in np.arange(-20, 21, 1):\n",
    "            j+=1\n",
    "                #print img.shape\n",
    "                #print(\"img%03d-%05d.png\"%{i,j})\n",
    "            cv2.imwrite(trainpath + \"img%(type)03d-%(num)05d.png\"%{'type':i,'num':j}, convert(img))\n",
    "            \n",
    "        except:\n",
    "            pass"
   ]
  },
  {
   "cell_type": "code",
   "execution_count": null,
   "metadata": {
    "collapsed": true,
    "deletable": true,
    "editable": true
   },
   "outputs": [],
   "source": []
  }
 ],
 "metadata": {
  "kernelspec": {
   "display_name": "Python 2",
   "language": "python",
   "name": "python2"
  },
  "language_info": {
   "codemirror_mode": {
    "name": "ipython",
    "version": 2
   },
   "file_extension": ".py",
   "mimetype": "text/x-python",
   "name": "python",
   "nbconvert_exporter": "python",
   "pygments_lexer": "ipython2",
   "version": "2.7.13"
  }
 },
 "nbformat": 4,
 "nbformat_minor": 2
}
